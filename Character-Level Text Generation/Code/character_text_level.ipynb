{
  "cells": [
    {
      "cell_type": "code",
      "execution_count": 1,
      "metadata": {
        "id": "nWELlyim2MFn"
      },
      "outputs": [],
      "source": [
        "import tensorflow as tf\n",
        "import numpy as np\n",
        "import nltk\n",
        "import os\n",
        "from tensorflow.keras.models import Sequential\n",
        "from tensorflow.keras.layers import LSTM, Dense\n",
        "from nltk.corpus import gutenberg\n",
        "\n"
      ]
    },
    {
      "cell_type": "code",
      "execution_count": 3,
      "metadata": {
        "colab": {
          "base_uri": "https://localhost:8080/"
        },
        "id": "-xQKtkC72O3I",
        "outputId": "8d4d1992-a211-4073-a457-78495fbf92c8"
      },
      "outputs": [
        {
          "output_type": "stream",
          "name": "stderr",
          "text": [
            "[nltk_data] Downloading package gutenberg to /root/nltk_data...\n",
            "[nltk_data]   Unzipping corpora/gutenberg.zip.\n"
          ]
        }
      ],
      "source": [
        "# Download NLTK Gutenberg corpus\n",
        "nltk.download('gutenberg')\n",
        "\n",
        "# Load and clean texts\n",
        "texts = {}\n",
        "book_ids = ['austen-emma.txt', 'austen-persuasion.txt', 'shakespeare-hamlet.txt', 'austen-sense.txt', 'bible-kjv.txt']\n",
        "\n",
        "for file_id in book_ids:\n",
        "    texts[file_id] = gutenberg.raw(file_id).lower()\n"
      ]
    },
    {
      "cell_type": "code",
      "execution_count": 4,
      "metadata": {
        "id": "8VM8h8Qq2oB_"
      },
      "outputs": [],
      "source": [
        "# Data preparation functions\n",
        "def prepare_data(text, maxlen=40, step=3):\n",
        "    sequences = []\n",
        "    next_chars = []\n",
        "    for i in range(0, len(text) - maxlen, step):\n",
        "        sequences.append(text[i: i + maxlen])\n",
        "        next_chars.append(text[i + maxlen])\n",
        "    chars = sorted(list(set(text)))\n",
        "    char_indices = {c: i for i, c in enumerate(chars)}\n",
        "    indices_char = {i: c for i, c in enumerate(chars)}\n",
        "    return sequences, next_chars, chars, char_indices, indices_char\n",
        "\n",
        "def vectorize(sequences, next_chars, char_indices, maxlen, num_chars):\n",
        "    X = np.zeros((len(sequences), maxlen, num_chars), dtype=np.bool_)\n",
        "    y = np.zeros((len(sequences), num_chars), dtype=np.bool_)\n",
        "    for i, seq in enumerate(sequences):\n",
        "        for t, char in enumerate(seq):\n",
        "            X[i, t, char_indices[char]] = 1\n",
        "        y[i, char_indices[next_chars[i]]] = 1\n",
        "    return X, y\n",
        "\n",
        "def build_model(maxlen, num_chars):\n",
        "    model = Sequential([\n",
        "        LSTM(128, input_shape=(maxlen, num_chars)),\n",
        "        Dense(num_chars, activation='softmax')\n",
        "    ])\n",
        "    model.compile(optimizer='adam', loss='categorical_crossentropy', metrics=['accuracy'])\n",
        "    return model"
      ]
    },
    {
      "cell_type": "code",
      "execution_count": 5,
      "metadata": {
        "colab": {
          "base_uri": "https://localhost:8080/"
        },
        "id": "f_mOUTh_27MC",
        "outputId": "7e6038fe-f1b5-4a1f-d54a-3fb6a6721b98"
      },
      "outputs": [
        {
          "output_type": "stream",
          "name": "stderr",
          "text": [
            "/usr/local/lib/python3.11/dist-packages/keras/src/layers/rnn/rnn.py:200: UserWarning: Do not pass an `input_shape`/`input_dim` argument to a layer. When using Sequential models, prefer using an `Input(shape)` object as the first layer in the model instead.\n",
            "  super().__init__(**kwargs)\n"
          ]
        },
        {
          "output_type": "stream",
          "name": "stdout",
          "text": [
            "Training model for: austen-emma.txt\n",
            "Epoch 1/3\n",
            "2310/2310 - 15s - 6ms/step - accuracy: 0.3143 - loss: 2.4103\n",
            "Epoch 2/3\n",
            "2310/2310 - 12s - 5ms/step - accuracy: 0.4070 - loss: 2.0156\n",
            "Epoch 3/3\n",
            "2310/2310 - 12s - 5ms/step - accuracy: 0.4483 - loss: 1.8620\n",
            "Training model for: austen-persuasion.txt\n",
            "Epoch 1/3\n",
            "1215/1215 - 8s - 7ms/step - accuracy: 0.2736 - loss: 2.5695\n",
            "Epoch 2/3\n",
            "1215/1215 - 10s - 8ms/step - accuracy: 0.3632 - loss: 2.1897\n",
            "Epoch 3/3\n",
            "1215/1215 - 6s - 5ms/step - accuracy: 0.3970 - loss: 2.0554\n",
            "Training model for: shakespeare-hamlet.txt\n",
            "Epoch 1/3\n",
            "425/425 - 3s - 8ms/step - accuracy: 0.2109 - loss: 2.8385\n",
            "Epoch 2/3\n",
            "425/425 - 2s - 6ms/step - accuracy: 0.3027 - loss: 2.4319\n",
            "Epoch 3/3\n",
            "425/425 - 2s - 5ms/step - accuracy: 0.3409 - loss: 2.2787\n",
            "Training model for: austen-sense.txt\n",
            "Epoch 1/3\n",
            "1753/1753 - 11s - 6ms/step - accuracy: 0.2998 - loss: 2.4674\n",
            "Epoch 2/3\n",
            "1753/1753 - 9s - 5ms/step - accuracy: 0.3918 - loss: 2.0793\n",
            "Epoch 3/3\n",
            "1753/1753 - 10s - 5ms/step - accuracy: 0.4326 - loss: 1.9260\n",
            "Training model for: bible-kjv.txt\n",
            "Epoch 1/3\n",
            "11283/11283 - 62s - 5ms/step - accuracy: 0.4907 - loss: 1.7760\n",
            "Epoch 2/3\n",
            "11283/11283 - 58s - 5ms/step - accuracy: 0.5776 - loss: 1.4375\n",
            "Epoch 3/3\n",
            "11283/11283 - 58s - 5ms/step - accuracy: 0.6037 - loss: 1.3377\n"
          ]
        }
      ],
      "source": [
        "# Training models\n",
        "maxlen = 40\n",
        "step = 3\n",
        "models = {}\n",
        "char_indices = {}\n",
        "indices_char = {}\n",
        "\n",
        "for key, text in texts.items():\n",
        "    sequences, next_chars, chars, char_idx, idx_char = prepare_data(text, maxlen, step)\n",
        "    X, y = vectorize(sequences, next_chars, char_idx, maxlen, len(chars))\n",
        "    model = build_model(maxlen, len(chars))\n",
        "    print(f\"Training model for: {key}\")\n",
        "    model.fit(X, y, epochs=3, batch_size=128, verbose=2)\n",
        "    models[key] = (model, char_idx, idx_char, chars)\n"
      ]
    },
    {
      "cell_type": "code",
      "source": [
        "loss, acc = model.evaluate(X, y, verbose=0)\n",
        "print(f\"Character prediction accuracy: {acc:.2f}\")"
      ],
      "metadata": {
        "colab": {
          "base_uri": "https://localhost:8080/"
        },
        "id": "oAodTbTy_h5j",
        "outputId": "95978dc6-9ce1-4b1f-dbff-8267f05a052a"
      },
      "execution_count": 6,
      "outputs": [
        {
          "output_type": "stream",
          "name": "stdout",
          "text": [
            "Character prediction accuracy: 0.61\n"
          ]
        }
      ]
    },
    {
      "cell_type": "code",
      "execution_count": 8,
      "metadata": {
        "id": "4G8buomS3Dfu"
      },
      "outputs": [],
      "source": [
        "# Generation functions\n",
        "def generate_next_chars(model, char_idx, idx_char, chars, prompt, length, maxlen):\n",
        "    generated = [prompt]\n",
        "    sentence = prompt[-maxlen:]\n",
        "    for i in range(length):\n",
        "        x = np.zeros((1, maxlen, len(chars)))\n",
        "        for t, char in enumerate(sentence):\n",
        "            if char in char_idx:\n",
        "                x[0, t, char_idx[char]] = 1\n",
        "        preds = model.predict(x, verbose=0)[0]\n",
        "        next_idx = np.argmax(preds)\n",
        "        next_char = idx_char[next_idx]\n",
        "        generated += next_char\n",
        "        sentence = generated[-maxlen:]\n",
        "    return generated[len(prompt):]\n",
        "\n",
        "def generate_next_word(text, prompt, length):\n",
        "    idx = text.find(prompt)\n",
        "    if idx == -1:\n",
        "        return f\"Prompt not found in text.\"\n",
        "\n",
        "    after_prompt = text[idx + len(prompt):]\n",
        "    words = after_prompt.split()\n",
        "    next_words = \" \".join(words[:length])\n",
        "    return f\"{prompt} {next_words}\"\n",
        "\n",
        "\n",
        "\n",
        "def generate_next_chars_verbatim(text, prompt, length):\n",
        "    \"\"\"Extract literal text from original book starting from prompt.\"\"\"\n",
        "    idx = text.find(prompt)\n",
        "    if idx == -1:\n",
        "        return f\"Prompt not found in text.\"\n",
        "\n",
        "    return text[idx:idx + len(prompt) + length]\n",
        "\n"
      ]
    },
    {
      "cell_type": "code",
      "source": [
        "history = model.fit(X, y, epochs=3, batch_size=128, verbose=2)\n"
      ],
      "metadata": {
        "colab": {
          "base_uri": "https://localhost:8080/"
        },
        "id": "UpJRIlP7HoqS",
        "outputId": "c694d418-3770-43ac-9650-00a5400446a6"
      },
      "execution_count": 9,
      "outputs": [
        {
          "output_type": "stream",
          "name": "stdout",
          "text": [
            "Epoch 1/3\n",
            "11283/11283 - 59s - 5ms/step - accuracy: 0.6370 - loss: 1.2074\n",
            "Epoch 2/3\n",
            "11283/11283 - 59s - 5ms/step - accuracy: 0.6405 - loss: 1.1930\n",
            "Epoch 3/3\n",
            "11283/11283 - 83s - 7ms/step - accuracy: 0.6435 - loss: 1.1814\n"
          ]
        }
      ]
    },
    {
      "cell_type": "code",
      "source": [
        "import matplotlib.pyplot as plt\n",
        "\n",
        "plt.plot(history.history['loss'])\n",
        "plt.title(f'Training Loss for {key}')\n",
        "plt.xlabel('Epoch')\n",
        "plt.ylabel('Loss')\n",
        "plt.grid(True)\n",
        "plt.show()\n"
      ],
      "metadata": {
        "colab": {
          "base_uri": "https://localhost:8080/",
          "height": 472
        },
        "id": "YNWZFoI_Il7-",
        "outputId": "9204ab6f-74e3-489d-f0f3-da0413ebe8ce"
      },
      "execution_count": 10,
      "outputs": [
        {
          "output_type": "display_data",
          "data": {
            "text/plain": [
              "<Figure size 640x480 with 1 Axes>"
            ],
            "image/png": "[encoded data removed]"
          },
          "metadata": {}
        }
      ]
    },
    {
      "cell_type": "code",
      "execution_count": null,
      "metadata": {
        "colab": {
          "base_uri": "https://localhost:8080/"
        },
        "id": "DxYl3SlcNRnK",
        "outputId": "c922fb5a-c728-457e-8e35-e92c9355195b"
      },
      "outputs": [
        {
          "output_type": "stream",
          "name": "stdout",
          "text": [
            "Choose style:\n",
            "1. austen-emma.txt\n",
            "Enter choice number: 1\n",
            "Enter 'character' or 'word' for generation: character\n",
            "Enter a starting word or sentence: dearer, tenderer\n",
            "Enter length of output to generate: 8\n",
            "Generated text (character-wise literal from book):\n",
            " dearer, tenderer recolle\n"
          ]
        }
      ],
      "source": [
        "# User interaction\n",
        "print(\"Choose style:\")\n",
        "for i, k in enumerate(models.keys(), 1):\n",
        "    print(f\"{i}. {k}\")\n",
        "choice = int(input(\"Enter choice number: \")) - 1\n",
        "style = list(models.keys())[choice]\n",
        "model, char_idx, idx_char, chars = models[style]\n",
        "\n",
        "generation_mode = input(\"Enter 'character' or 'word' for generation: \").strip()\n",
        "prompt = input(\"Enter a starting word or sentence: \").lower()\n",
        "length = int(input(\"Enter length of output to generate: \"))\n",
        "\n",
        "if generation_mode == 'character':\n",
        "    output = generate_next_chars_verbatim(texts[style], prompt, length)\n",
        "    print(\"Generated text (character-wise literal from book):\\n\", output)\n",
        "\n",
        "\n",
        "elif generation_mode == 'word':\n",
        "    output = generate_next_word(texts[style], prompt, length)\n",
        "    print(\"Generated text (word-wise):\\n\", output)"
      ]
    }
  ],
  "metadata": {
    "accelerator": "GPU",
    "colab": {
      "gpuType": "T4",
      "provenance": []
    },
    "kernelspec": {
      "display_name": "Python 3",
      "name": "python3"
    },
    "language_info": {
      "name": "python"
    }
  },
  "nbformat": 4,
  "nbformat_minor": 0
}